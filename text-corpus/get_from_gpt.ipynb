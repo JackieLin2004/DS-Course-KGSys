{
 "cells": [
  {
   "metadata": {},
   "cell_type": "markdown",
   "source": "### 处理QA1.csv",
   "id": "79c836a93b834453"
  },
  {
   "cell_type": "code",
   "id": "initial_id",
   "metadata": {
    "collapsed": true,
    "ExecuteTime": {
     "end_time": "2024-12-11T13:17:49.150232Z",
     "start_time": "2024-12-11T13:16:33.035932Z"
    }
   },
   "source": [
    "import csv\n",
    "import json\n",
    "from ChatGPT import ChatGPT\n",
    "from tqdm import tqdm\n",
    "\n",
    "def get_type(title, answer):\n",
    "    chatgpt = ChatGPT()\n",
    "    prompt = f\"\"\"\n",
    "        假设你现在是一个数据结构与算法课程的老师，我现在需要你帮我分析一下一道数据结构与算法题目的类别。\n",
    "        我会给你一道题目和答案，你要帮我分析一下这个题目的类别。\n",
    "        这个类别就是指这个题目属于哪个章节的内容。\n",
    "        具体的章节包括以下这些：\n",
    "        1. 绪论（数据结构的整体介绍）\n",
    "        2. 线性表\n",
    "        3. 栈和队列\n",
    "        4. 串\n",
    "        5. 数组和广义表\n",
    "        6. 树和二叉树\n",
    "        7. 图\n",
    "        8. 动态存储管理\n",
    "        9. 查找\n",
    "        10. 内部排序\n",
    "        11. 外部排序\n",
    "        你根据我的题目，给出的类别应该是上面给出的11个中的一个或者多个，需要注意一下的是我第一个类别绪论后面的括号只是补充解释，你如果要说是绪论这个类别，只需要说是绪论即可，不需要给出括号后面的内容。\n",
    "        现在，我给你一个题目和答案，请你根据我的提示词，给出这个题目的类别。\n",
    "        题目：{title}\n",
    "        答案：{answer}\n",
    "        你只需要返回一个上面十一个类别之一的名词即可。\n",
    "    \"\"\"\n",
    "    try:\n",
    "        response = chatgpt.chat(prompt)\n",
    "        return response[\"content\"].strip()\n",
    "    except Exception as e:\n",
    "        return f\"获取描述失败：{e}\"\n",
    "\n",
    "def add_type_to_csv(input_csv, output_csv):\n",
    "    # 先计算CSV的总行数以便tqdm正确显示进度\n",
    "    with open(input_csv, 'r', encoding='utf-8') as f:\n",
    "        total_rows = sum(1 for row in f) - 1  # 减去标题行\n",
    "\n",
    "    with open(input_csv, 'r', encoding='utf-8') as f_in, open(output_csv, 'w', encoding='utf-8', newline='') as f_out:\n",
    "        reader = csv.reader(f_in)\n",
    "        writer = csv.writer(f_out)\n",
    "        \n",
    "        # 读取并写入标题行，同时添加新的“类别”列\n",
    "        header = next(reader)\n",
    "        header.append('类别')\n",
    "        writer.writerow(header)\n",
    "        \n",
    "        # 使用tqdm显示进度条\n",
    "        for row in tqdm(reader, total=total_rows, desc=\"Processing rows\"):\n",
    "            if len(row) < 2:\n",
    "                # 如果行中列数不足，跳过该行\n",
    "                row.append(\"数据不完整\")\n",
    "            else:\n",
    "                title, answer = row[:2]\n",
    "                type_ = get_type(title, answer)\n",
    "                row.append(type_)\n",
    "            writer.writerow(row)\n",
    "\n",
    "if __name__ == \"__main__\":\n",
    "    input_csv = './QA1.csv'\n",
    "    output_csv = './QA1_with_type.csv'\n",
    "    add_type_to_csv(input_csv, output_csv)\n",
    "    print(f\"已完成，将带有类别的新文件保存为 {output_csv}\")\n"
   ],
   "outputs": [
    {
     "name": "stderr",
     "output_type": "stream",
     "text": [
      "Processing rows: 100%|██████████| 68/68 [01:15<00:00,  1.11s/it]"
     ]
    },
    {
     "name": "stdout",
     "output_type": "stream",
     "text": [
      "已完成，将带有类别的新文件保存为 ./QA1_with_type.csv\n"
     ]
    },
    {
     "name": "stderr",
     "output_type": "stream",
     "text": [
      "\n"
     ]
    }
   ],
   "execution_count": 1
  },
  {
   "metadata": {},
   "cell_type": "markdown",
   "source": "### 处理QA2.csv",
   "id": "6b7b00b6d9769919"
  },
  {
   "metadata": {
    "ExecuteTime": {
     "end_time": "2024-12-11T13:21:31.723038Z",
     "start_time": "2024-12-11T13:20:06.453337Z"
    }
   },
   "cell_type": "code",
   "source": [
    "import csv\n",
    "import json\n",
    "from ChatGPT import ChatGPT\n",
    "from tqdm import tqdm\n",
    "\n",
    "def get_type(title, answer):\n",
    "    chatgpt = ChatGPT()\n",
    "    prompt = f\"\"\"\n",
    "        假设你现在是一个数据结构与算法课程的老师，我现在需要你帮我分析一下一道数据结构与算法题目的类别。\n",
    "        我会给你一道题目和答案，你要帮我分析一下这个题目的类别。\n",
    "        这个类别就是指这个题目属于哪个章节的内容。\n",
    "        具体的章节包括以下这些：\n",
    "        1. 绪论（数据结构的整体介绍）\n",
    "        2. 线性表\n",
    "        3. 栈和队列\n",
    "        4. 串\n",
    "        5. 数组和广义表\n",
    "        6. 树和二叉树\n",
    "        7. 图\n",
    "        8. 动态存储管理\n",
    "        9. 查找\n",
    "        10. 内部排序\n",
    "        11. 外部排序\n",
    "        你根据我的题目，给出的类别应该是上面给出的11个中的一个或者多个，需要注意一下的是我第一个类别绪论后面的括号只是补充解释，你如果要说是绪论这个类别，只需要说是绪论即可，不需要给出括号后面的内容。\n",
    "        现在，我给你一个题目和答案，请你根据我的提示词，给出这个题目的类别。\n",
    "        题目：{title}\n",
    "        答案：{answer}\n",
    "        你只需要返回一个上面十一个类别之一的名词即可。\n",
    "    \"\"\"\n",
    "    try:\n",
    "        response = chatgpt.chat(prompt)\n",
    "        return response[\"content\"].strip()\n",
    "    except Exception as e:\n",
    "        return f\"获取描述失败：{e}\"\n",
    "\n",
    "def add_type_to_csv(input_csv, output_csv):\n",
    "    # 先计算CSV的总行数以便tqdm正确显示进度\n",
    "    with open(input_csv, 'r', encoding='utf-8') as f:\n",
    "        total_rows = sum(1 for row in f) - 1  # 减去标题行\n",
    "\n",
    "    with open(input_csv, 'r', encoding='utf-8') as f_in, open(output_csv, 'w', encoding='utf-8', newline='') as f_out:\n",
    "        reader = csv.reader(f_in)\n",
    "        writer = csv.writer(f_out)\n",
    "        \n",
    "        # 读取并写入标题行，同时添加新的“类别”列\n",
    "        header = next(reader)\n",
    "        header.append('类别')\n",
    "        writer.writerow(header)\n",
    "        \n",
    "        # 使用tqdm显示进度条\n",
    "        for row in tqdm(reader, total=total_rows, desc=\"Processing rows\"):\n",
    "            if len(row) < 2:\n",
    "                # 如果行中列数不足，跳过该行\n",
    "                row.append(\"数据不完整\")\n",
    "            else:\n",
    "                title, answer = row[:2]\n",
    "                type_ = get_type(title, answer)\n",
    "                row.append(type_)\n",
    "            writer.writerow(row)\n",
    "\n",
    "if __name__ == \"__main__\":\n",
    "    input_csv = './QA2.csv'\n",
    "    output_csv = './QA2_with_type.csv'\n",
    "    add_type_to_csv(input_csv, output_csv)\n",
    "    print(f\"已完成，将带有类别的新文件保存为 {output_csv}\")\n"
   ],
   "id": "1659db01f2450acc",
   "outputs": [
    {
     "name": "stderr",
     "output_type": "stream",
     "text": [
      "Processing rows: 100%|██████████| 74/74 [01:25<00:00,  1.15s/it]"
     ]
    },
    {
     "name": "stdout",
     "output_type": "stream",
     "text": [
      "已完成，将带有类别的新文件保存为 ./QA2_with_type.csv\n"
     ]
    },
    {
     "name": "stderr",
     "output_type": "stream",
     "text": [
      "\n"
     ]
    }
   ],
   "execution_count": 2
  },
  {
   "metadata": {},
   "cell_type": "markdown",
   "source": "### QA1的题目类型转换",
   "id": "1ec80700378910d2"
  },
  {
   "metadata": {
    "ExecuteTime": {
     "end_time": "2024-12-11T13:44:36.781778Z",
     "start_time": "2024-12-11T13:34:34.604720Z"
    }
   },
   "cell_type": "code",
   "source": [
    "import csv\n",
    "import json\n",
    "from ChatGPT import ChatGPT\n",
    "from tqdm import tqdm\n",
    "\n",
    "def transform_question(original_question, original_answer, category, question_type):\n",
    "    chatgpt = ChatGPT()\n",
    "    \n",
    "    # 构建提示词（Prompt）根据题型不同\n",
    "    if question_type == '判断题':\n",
    "        prompt = f\"\"\"\n",
    "            你是一个资深的数据结构与算法课程老师。请将以下选择题转换为一个判断题（答案只能是“对”或“错”）。\n",
    "            请保持题目的类别为：{category}。\n",
    "            \n",
    "            原始题目：{original_question}\n",
    "            原始答案：{original_answer}\n",
    "            \n",
    "            请提供转换后的题目和答案，格式如下：\n",
    "            题目：<转换后的题目>\n",
    "            答案：<转换后的答案>\n",
    "            \"\"\"\n",
    "    elif question_type == '填空题':\n",
    "        prompt = f\"\"\"\n",
    "            你是一个资深的数据结构与算法课程老师。请将以下选择题转换为一个填空题。\n",
    "            请保持题目的类别为：{category}。\n",
    "            \n",
    "            原始题目：{original_question}\n",
    "            原始答案：{original_answer}\n",
    "            \n",
    "            请提供转换后的题目和答案，格式如下：\n",
    "            题目：<转换后的题目>\n",
    "            答案：<转换后的答案>\n",
    "            \"\"\"\n",
    "    elif question_type == '简答题':\n",
    "        prompt = f\"\"\"\n",
    "            你是一个资深的数据结构与算法课程老师。请将以下选择题转换为一个简答题。\n",
    "            请保持题目的类别为：{category}。\n",
    "            \n",
    "            原始题目：{original_question}\n",
    "            原始答案：{original_answer}\n",
    "            \n",
    "            请提供转换后的题目和答案，格式如下：\n",
    "            题目：<转换后的题目>\n",
    "            答案：<转换后的答案>\n",
    "            \"\"\"\n",
    "    else:\n",
    "        return \"无效的题型\", \"无效的题型\"\n",
    "\n",
    "    try:\n",
    "        response = chatgpt.chat(prompt)\n",
    "        content = response.get(\"content\", \"\").strip()\n",
    "        transformed_question = \"\"\n",
    "        transformed_answer = \"\"\n",
    "        \n",
    "        for line in content.split('\\n'):\n",
    "            if line.startswith(\"题目：\"):\n",
    "                transformed_question = line.replace(\"题目：\", \"\").strip()\n",
    "            elif line.startswith(\"答案：\"):\n",
    "                transformed_answer = line.replace(\"答案：\", \"\").strip()\n",
    "        \n",
    "        if not transformed_question or not transformed_answer:\n",
    "            raise ValueError(\"转换后的题目或答案缺失。\")\n",
    "        \n",
    "        return transformed_question, transformed_answer\n",
    "    \n",
    "    except Exception as e:\n",
    "        print(f\"转换失败（{question_type}）：{e}\")\n",
    "        return \"转换失败\", \"转换失败\"\n",
    "\n",
    "def transform_csv(input_csv, output_csv):\n",
    "    \"\"\"\n",
    "    读取原始CSV文件，转换题目类型，并写入新的CSV文件。\n",
    "\n",
    "    参数：\n",
    "        input_csv (str): 输入的CSV文件路径。\n",
    "        output_csv (str): 输出的CSV文件路径。\n",
    "    \"\"\"\n",
    "    # 先计算CSV的总行数以便tqdm正确显示进度\n",
    "    with open(input_csv, 'r', encoding='utf-8') as f:\n",
    "        total_rows = sum(1 for row in f) - 1  # 减去标题行\n",
    "\n",
    "    with open(input_csv, 'r', encoding='utf-8') as f_in, \\\n",
    "         open(output_csv, 'w', encoding='utf-8', newline='') as f_out:\n",
    "        \n",
    "        reader = csv.reader(f_in)\n",
    "        writer = csv.writer(f_out)\n",
    "        \n",
    "        # 写入标题行\n",
    "        header = ['题目', '答案', '类别', '题目类型']\n",
    "        writer.writerow(header)\n",
    "        \n",
    "        next(reader)  # 跳过原始标题行\n",
    "\n",
    "        for row in tqdm(reader, total=total_rows, desc=\"转换题目类型\"):\n",
    "            if len(row) < 3:\n",
    "                # 如果行中列数不足，标记转换失败\n",
    "                original_question = row[0] if len(row) > 0 else \"\"\n",
    "                original_answer = row[1] if len(row) > 1 else \"\"\n",
    "                category = row[2] if len(row) > 2 else \"\"\n",
    "                transformed_questions = [(\"数据不完整\", \"数据不完整\")] * 3\n",
    "                question_types = ['判断题', '填空题', '简答题']\n",
    "            else:\n",
    "                original_question, original_answer, category = row[:3]\n",
    "                question_types = ['判断题', '填空题', '简答题']\n",
    "                transformed_questions = [\n",
    "                    transform_question(original_question, original_answer, category, q_type)\n",
    "                    for q_type in question_types\n",
    "                ]\n",
    "            \n",
    "            for q_type, (trans_q, trans_a) in zip(question_types, transformed_questions):\n",
    "                writer.writerow([trans_q, trans_a, category, q_type])\n",
    "\n",
    "    print(f\"已完成，将转换后的文件保存为 {output_csv}\")\n",
    "\n",
    "if __name__ == \"__main__\":\n",
    "    input_csv = './QA1_with_type.csv'\n",
    "    output_csv = './QA1_transformed.csv'\n",
    "    transform_csv(input_csv, output_csv)\n"
   ],
   "id": "339bdb607eae7ab3",
   "outputs": [
    {
     "name": "stderr",
     "output_type": "stream",
     "text": [
      "转换题目类型:  82%|████████▏ | 56/68 [08:11<01:40,  8.36s/it]"
     ]
    },
    {
     "name": "stdout",
     "output_type": "stream",
     "text": [
      "转换失败（简答题）：转换后的题目或答案缺失。\n"
     ]
    },
    {
     "name": "stderr",
     "output_type": "stream",
     "text": [
      "转换题目类型: 100%|██████████| 68/68 [10:02<00:00,  8.86s/it]"
     ]
    },
    {
     "name": "stdout",
     "output_type": "stream",
     "text": [
      "已完成，将转换后的文件保存为 ./QA1_transformed.csv\n"
     ]
    },
    {
     "name": "stderr",
     "output_type": "stream",
     "text": [
      "\n"
     ]
    }
   ],
   "execution_count": 5
  },
  {
   "metadata": {},
   "cell_type": "markdown",
   "source": "### QA2的题目类型转换",
   "id": "6b93037420ef3c1c"
  },
  {
   "metadata": {
    "ExecuteTime": {
     "end_time": "2024-12-11T14:00:20.467758Z",
     "start_time": "2024-12-11T13:48:17.280097Z"
    }
   },
   "cell_type": "code",
   "source": [
    "import csv\n",
    "import json\n",
    "from ChatGPT import ChatGPT\n",
    "from tqdm import tqdm\n",
    "\n",
    "def transform_question(original_question, original_answer, category, question_type):\n",
    "    chatgpt = ChatGPT()\n",
    "    \n",
    "    # 构建提示词（Prompt）根据题型不同\n",
    "    if question_type == '判断题':\n",
    "        prompt = f\"\"\"\n",
    "            你是一个资深的数据结构与算法课程老师。请将以下选择题转换为一个判断题（答案只能是“对”或“错”）。\n",
    "            请保持题目的类别为：{category}。\n",
    "            \n",
    "            原始题目：{original_question}\n",
    "            原始答案：{original_answer}\n",
    "            \n",
    "            请提供转换后的题目和答案，格式如下：\n",
    "            题目：<转换后的题目>\n",
    "            答案：<转换后的答案>\n",
    "            \"\"\"\n",
    "    elif question_type == '填空题':\n",
    "        prompt = f\"\"\"\n",
    "            你是一个资深的数据结构与算法课程老师。请将以下选择题转换为一个填空题。\n",
    "            请保持题目的类别为：{category}。\n",
    "            \n",
    "            原始题目：{original_question}\n",
    "            原始答案：{original_answer}\n",
    "            \n",
    "            请提供转换后的题目和答案，格式如下：\n",
    "            题目：<转换后的题目>\n",
    "            答案：<转换后的答案>\n",
    "            \"\"\"\n",
    "    elif question_type == '简答题':\n",
    "        prompt = f\"\"\"\n",
    "            你是一个资深的数据结构与算法课程老师。请将以下选择题转换为一个简答题。\n",
    "            请保持题目的类别为：{category}。\n",
    "            \n",
    "            原始题目：{original_question}\n",
    "            原始答案：{original_answer}\n",
    "            \n",
    "            请提供转换后的题目和答案，格式如下：\n",
    "            题目：<转换后的题目>\n",
    "            答案：<转换后的答案>\n",
    "            \"\"\"\n",
    "    else:\n",
    "        return \"无效的题型\", \"无效的题型\"\n",
    "\n",
    "    try:\n",
    "        response = chatgpt.chat(prompt)\n",
    "        content = response.get(\"content\", \"\").strip()\n",
    "        transformed_question = \"\"\n",
    "        transformed_answer = \"\"\n",
    "        \n",
    "        for line in content.split('\\n'):\n",
    "            if line.startswith(\"题目：\"):\n",
    "                transformed_question = line.replace(\"题目：\", \"\").strip()\n",
    "            elif line.startswith(\"答案：\"):\n",
    "                transformed_answer = line.replace(\"答案：\", \"\").strip()\n",
    "        \n",
    "        if not transformed_question or not transformed_answer:\n",
    "            raise ValueError(\"转换后的题目或答案缺失。\")\n",
    "        \n",
    "        return transformed_question, transformed_answer\n",
    "    \n",
    "    except Exception as e:\n",
    "        print(f\"转换失败（{question_type}）：{e}\")\n",
    "        return \"转换失败\", \"转换失败\"\n",
    "\n",
    "def transform_csv(input_csv, output_csv):\n",
    "    \"\"\"\n",
    "    读取原始CSV文件，转换题目类型，并写入新的CSV文件。\n",
    "\n",
    "    参数：\n",
    "        input_csv (str): 输入的CSV文件路径。\n",
    "        output_csv (str): 输出的CSV文件路径。\n",
    "    \"\"\"\n",
    "    # 先计算CSV的总行数以便tqdm正确显示进度\n",
    "    with open(input_csv, 'r', encoding='utf-8') as f:\n",
    "        total_rows = sum(1 for row in f) - 1  # 减去标题行\n",
    "\n",
    "    with open(input_csv, 'r', encoding='utf-8') as f_in, \\\n",
    "         open(output_csv, 'w', encoding='utf-8', newline='') as f_out:\n",
    "        \n",
    "        reader = csv.reader(f_in)\n",
    "        writer = csv.writer(f_out)\n",
    "        \n",
    "        # 写入标题行\n",
    "        header = ['题目', '答案', '类别', '题目类型']\n",
    "        writer.writerow(header)\n",
    "        \n",
    "        next(reader)  # 跳过原始标题行\n",
    "\n",
    "        for row in tqdm(reader, total=total_rows, desc=\"转换题目类型\"):\n",
    "            if len(row) < 3:\n",
    "                # 如果行中列数不足，标记转换失败\n",
    "                original_question = row[0] if len(row) > 0 else \"\"\n",
    "                original_answer = row[1] if len(row) > 1 else \"\"\n",
    "                category = row[2] if len(row) > 2 else \"\"\n",
    "                transformed_questions = [(\"数据不完整\", \"数据不完整\")] * 3\n",
    "                question_types = ['判断题', '填空题', '简答题']\n",
    "            else:\n",
    "                original_question, original_answer, category = row[:3]\n",
    "                question_types = ['判断题', '填空题', '简答题']\n",
    "                transformed_questions = [\n",
    "                    transform_question(original_question, original_answer, category, q_type)\n",
    "                    for q_type in question_types\n",
    "                ]\n",
    "            \n",
    "            for q_type, (trans_q, trans_a) in zip(question_types, transformed_questions):\n",
    "                writer.writerow([trans_q, trans_a, category, q_type])\n",
    "\n",
    "    print(f\"已完成，将转换后的文件保存为 {output_csv}\")\n",
    "\n",
    "if __name__ == \"__main__\":\n",
    "    input_csv = './QA2_with_type.csv'\n",
    "    output_csv = './QA2_transformed.csv'\n",
    "    transform_csv(input_csv, output_csv)\n"
   ],
   "id": "ec8efa0715a6fbf",
   "outputs": [
    {
     "name": "stderr",
     "output_type": "stream",
     "text": [
      "转换题目类型:  64%|██████▎   | 47/74 [07:35<05:25, 12.05s/it]"
     ]
    },
    {
     "name": "stdout",
     "output_type": "stream",
     "text": [
      "转换失败（简答题）：转换后的题目或答案缺失。\n"
     ]
    },
    {
     "name": "stderr",
     "output_type": "stream",
     "text": [
      "转换题目类型: 100%|██████████| 74/74 [12:03<00:00,  9.77s/it]"
     ]
    },
    {
     "name": "stdout",
     "output_type": "stream",
     "text": [
      "已完成，将转换后的文件保存为 ./QA2_transformed.csv\n"
     ]
    },
    {
     "name": "stderr",
     "output_type": "stream",
     "text": [
      "\n"
     ]
    }
   ],
   "execution_count": 6
  },
  {
   "metadata": {},
   "cell_type": "markdown",
   "source": "### 合并成一个大的all_question.csv文件",
   "id": "a9167644807d1c4e"
  },
  {
   "metadata": {
    "ExecuteTime": {
     "end_time": "2024-12-11T14:02:28.595605Z",
     "start_time": "2024-12-11T14:02:28.515130Z"
    }
   },
   "cell_type": "code",
   "source": [
    "import pandas as pd\n",
    "\n",
    "def merge_csv_files():\n",
    "    # 文件路径\n",
    "    qa1_with_type = './QA1_with_type.csv'\n",
    "    qa1_transformed = './QA1_transformed.csv'\n",
    "    qa2_with_type = './QA2_with_type.csv'\n",
    "    qa2_transformed = './QA2_transformed.csv'\n",
    "    \n",
    "    # 读取QA1_with_type.csv，并添加题目类型列为“多选题”\n",
    "    try:\n",
    "        df_qa1_with = pd.read_csv(qa1_with_type, encoding='utf-8')\n",
    "        df_qa1_with['题目类型'] = '多选题'\n",
    "        # 确保列顺序为：题目, 答案, 类别, 题目类型\n",
    "        df_qa1_with = df_qa1_with[['题目', '答案', '类别', '题目类型']]\n",
    "    except Exception as e:\n",
    "        print(f\"读取或处理文件 {qa1_with_type} 时出错: {e}\")\n",
    "        return\n",
    "    \n",
    "    # 读取QA1_transformed.csv，确保列顺序为：题目, 答案, 类别, 题目类型\n",
    "    try:\n",
    "        df_qa1_trans = pd.read_csv(qa1_transformed, encoding='utf-8')\n",
    "        # 如果列顺序不对，可以重新排列\n",
    "        df_qa1_trans = df_qa1_trans[['题目', '答案', '类别', '题目类型']]\n",
    "    except Exception as e:\n",
    "        print(f\"读取或处理文件 {qa1_transformed} 时出错: {e}\")\n",
    "        return\n",
    "    \n",
    "    # 读取QA2_with_type.csv，并添加题目类型列为“单选题”\n",
    "    try:\n",
    "        df_qa2_with = pd.read_csv(qa2_with_type, encoding='utf-8')\n",
    "        df_qa2_with['题目类型'] = '单选题'\n",
    "        # 确保列顺序为：题目, 答案, 类别, 题目类型\n",
    "        df_qa2_with = df_qa2_with[['题目', '答案', '类别', '题目类型']]\n",
    "    except Exception as e:\n",
    "        print(f\"读取或处理文件 {qa2_with_type} 时出错: {e}\")\n",
    "        return\n",
    "    \n",
    "    # 读取QA2_transformed.csv，确保列顺序为：题目, 答案, 类别, 题目类型\n",
    "    try:\n",
    "        df_qa2_trans = pd.read_csv(qa2_transformed, encoding='utf-8')\n",
    "        # 如果列顺序不对，可以重新排列\n",
    "        df_qa2_trans = df_qa2_trans[['题目', '答案', '类别', '题目类型']]\n",
    "    except Exception as e:\n",
    "        print(f\"读取或处理文件 {qa2_transformed} 时出错: {e}\")\n",
    "        return\n",
    "    \n",
    "    # 合并所有DataFrame\n",
    "    try:\n",
    "        all_questions = pd.concat([df_qa1_with, df_qa1_trans, df_qa2_with, df_qa2_trans], ignore_index=True)\n",
    "    except Exception as e:\n",
    "        print(f\"合并DataFrame时出错: {e}\")\n",
    "        return\n",
    "    \n",
    "    # 导出到all_question.csv\n",
    "    try:\n",
    "        all_questions.to_csv('./all_question.csv', index=False, encoding='utf-8-sig')\n",
    "        print(\"已成功将四个文件合并为 all_question.csv\")\n",
    "    except Exception as e:\n",
    "        print(f\"导出到 all_question.csv 时出错: {e}\")\n",
    "\n",
    "if __name__ == \"__main__\":\n",
    "    merge_csv_files()\n"
   ],
   "id": "23c8337ef43e19f",
   "outputs": [
    {
     "name": "stdout",
     "output_type": "stream",
     "text": [
      "已成功将四个文件合并为 all_question.csv\n"
     ]
    }
   ],
   "execution_count": 7
  },
  {
   "metadata": {},
   "cell_type": "markdown",
   "source": "### 合并成train.json",
   "id": "1988df38fcfdca99"
  },
  {
   "metadata": {
    "ExecuteTime": {
     "end_time": "2024-12-11T14:19:17.428558Z",
     "start_time": "2024-12-11T14:19:17.385649Z"
    }
   },
   "cell_type": "code",
   "source": [
    "import csv\n",
    "import json\n",
    "from tqdm import tqdm\n",
    "\n",
    "def convert_csv_to_json(input_csv, output_json, log_file):\n",
    "    data = []\n",
    "    skipped_rows = []\n",
    "    \n",
    "    # 计算总行数以便tqdm正确显示进度\n",
    "    try:\n",
    "        with open(input_csv, 'r', encoding='utf-8-sig') as f:  # 使用 utf-8-sig 编码处理BOM\n",
    "            total_rows = sum(1 for row in f) - 1  # 减去标题行\n",
    "    except Exception as e:\n",
    "        print(f\"读取文件 {input_csv} 时出错: {e}\")\n",
    "        return\n",
    "\n",
    "    # 读取CSV并转换为JSON格式\n",
    "    try:\n",
    "        with open(input_csv, 'r', encoding='utf-8-sig') as csvfile:  # 使用 utf-8-sig 编码处理BOM\n",
    "            reader = csv.DictReader(csvfile)\n",
    "            for row in tqdm(reader, total=total_rows, desc=\"转换CSV到JSON\"):\n",
    "                # 获取每一列的值，确保存在\n",
    "                title = row.get('题目', '').strip()\n",
    "                answer = row.get('答案', '').strip()\n",
    "                category = row.get('类别', '').strip()\n",
    "                question_type = row.get('题目类型', '').strip()\n",
    "                \n",
    "                # 检查必要字段是否存在\n",
    "                if not title or not answer or not category or not question_type:\n",
    "                    skipped_rows.append(row)\n",
    "                    continue\n",
    "                \n",
    "                # 构建human和gpt的value\n",
    "                human_value = f\"请你给我出一道关于{category}类型的数据结构与算法的{question_type}\"\n",
    "                gpt_value = f\"题目是:\\n{title}\\n答案是:\\n{answer}\"\n",
    "                \n",
    "                # 构建对话对象\n",
    "                conversation = {\n",
    "                    \"conversations\": [\n",
    "                        {\n",
    "                            \"from\": \"human\",\n",
    "                            \"value\": human_value\n",
    "                        },\n",
    "                        {\n",
    "                            \"from\": \"gpt\",\n",
    "                            \"value\": gpt_value\n",
    "                        }\n",
    "                    ]\n",
    "                }\n",
    "                \n",
    "                # 添加到数据列表\n",
    "                data.append(conversation)\n",
    "    except Exception as e:\n",
    "        print(f\"处理文件 {input_csv} 时出错: {e}\")\n",
    "        return\n",
    "\n",
    "    # 将数据写入JSON文件\n",
    "    try:\n",
    "        with open(output_json, 'w', encoding='utf-8') as jsonfile:\n",
    "            json.dump(data, jsonfile, ensure_ascii=False, indent=2)\n",
    "        print(f\"成功将 {input_csv} 转换为 {output_json}\")\n",
    "    except Exception as e:\n",
    "        print(f\"写入文件 {output_json} 时出错: {e}\")\n",
    "    \n",
    "    # 如果有跳过的行，写入日志文件\n",
    "    if skipped_rows:\n",
    "        try:\n",
    "            with open(log_file, 'w', encoding='utf-8') as logf:\n",
    "                json.dump(skipped_rows, logf, ensure_ascii=False, indent=2)\n",
    "            print(f\"跳过了 {len(skipped_rows)} 行，详情见 {log_file}\")\n",
    "        except Exception as e:\n",
    "            print(f\"写入日志文件 {log_file} 时出错: {e}\")\n",
    "\n",
    "if __name__ == \"__main__\":\n",
    "    input_csv = './all_question.csv'\n",
    "    output_json = './ds_train.json'\n",
    "    log_file = './skipped_rows.json'\n",
    "    convert_csv_to_json(input_csv, output_json, log_file)\n"
   ],
   "id": "6be4ce8b7e61388f",
   "outputs": [
    {
     "name": "stderr",
     "output_type": "stream",
     "text": [
      "转换CSV到JSON: 100%|██████████| 568/568 [00:00<00:00, 128616.57it/s]"
     ]
    },
    {
     "name": "stdout",
     "output_type": "stream",
     "text": [
      "成功将 ./all_question.csv 转换为 ./ds_train.json\n"
     ]
    },
    {
     "name": "stderr",
     "output_type": "stream",
     "text": [
      "\n"
     ]
    }
   ],
   "execution_count": 9
  }
 ],
 "metadata": {
  "kernelspec": {
   "display_name": "Python 3",
   "language": "python",
   "name": "python3"
  },
  "language_info": {
   "codemirror_mode": {
    "name": "ipython",
    "version": 2
   },
   "file_extension": ".py",
   "mimetype": "text/x-python",
   "name": "python",
   "nbconvert_exporter": "python",
   "pygments_lexer": "ipython2",
   "version": "2.7.6"
  }
 },
 "nbformat": 4,
 "nbformat_minor": 5
}
