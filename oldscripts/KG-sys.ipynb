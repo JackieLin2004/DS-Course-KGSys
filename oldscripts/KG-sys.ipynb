{
 "cells": [
  {
   "metadata": {
    "ExecuteTime": {
     "end_time": "2024-10-29T06:20:46.417293Z",
     "start_time": "2024-10-29T06:20:41.882099Z"
    }
   },
   "cell_type": "code",
   "source": [
    "from langchain_core.runnables import  RunnablePassthrough\n",
    "from langchain_core.prompts import ChatPromptTemplate\n",
    "from pydantic import BaseModel, Field\n",
    "from langchain_core.output_parsers import StrOutputParser\n",
    "from langchain_community.graphs import Neo4jGraph\n",
    "from langchain.text_splitter import RecursiveCharacterTextSplitter\n",
    "from langchain_community.chat_models import ChatOllama\n",
    "from langchain_experimental.graph_transformers import LLMGraphTransformer\n",
    "from neo4j import GraphDatabase\n",
    "from yfiles_jupyter_graphs import GraphWidget\n",
    "from langchain_community.vectorstores import Neo4jVector\n",
    "from langchain_community.document_loaders import TextLoader\n",
    "from langchain_community.vectorstores.neo4j_vector import remove_lucene_chars\n",
    "from langchain_ollama import OllamaEmbeddings\n",
    "import os\n",
    "from langchain_experimental.llms.ollama_functions import OllamaFunctions\n",
    "from neo4j import  Driver\n",
    "\n",
    "from dotenv import load_dotenv\n",
    "\n",
    "load_dotenv()"
   ],
   "id": "86a719f4d22283ef",
   "outputs": [
    {
     "data": {
      "text/plain": [
       "False"
      ]
     },
     "execution_count": 2,
     "metadata": {},
     "output_type": "execute_result"
    }
   ],
   "execution_count": 2
  },
  {
   "metadata": {
    "ExecuteTime": {
     "end_time": "2024-10-29T06:21:20.777991Z",
     "start_time": "2024-10-29T06:21:20.739838Z"
    }
   },
   "cell_type": "code",
   "source": [
    "graph = Neo4jGraph(url=)"
   ],
   "id": "39017090f8b9169b",
   "outputs": [
    {
     "ename": "ValueError",
     "evalue": "Did not find url, please add an environment variable `NEO4J_URI` which contains it, or pass `url` as a named parameter.",
     "output_type": "error",
     "traceback": [
      "\u001B[1;31m---------------------------------------------------------------------------\u001B[0m",
      "\u001B[1;31mValueError\u001B[0m                                Traceback (most recent call last)",
      "Cell \u001B[1;32mIn[4], line 1\u001B[0m\n\u001B[1;32m----> 1\u001B[0m graph \u001B[38;5;241m=\u001B[39m \u001B[43mNeo4jGraph\u001B[49m\u001B[43m(\u001B[49m\u001B[43m)\u001B[49m\n",
      "File \u001B[1;32md:\\Anaconda\\envs\\DeepLearning\\Lib\\site-packages\\langchain_community\\graphs\\neo4j_graph.py:348\u001B[0m, in \u001B[0;36mNeo4jGraph.__init__\u001B[1;34m(self, url, username, password, database, timeout, sanitize, refresh_schema, driver_config, enhanced_schema)\u001B[0m\n\u001B[0;32m    342\u001B[0m \u001B[38;5;28;01mexcept\u001B[39;00m \u001B[38;5;167;01mImportError\u001B[39;00m:\n\u001B[0;32m    343\u001B[0m     \u001B[38;5;28;01mraise\u001B[39;00m \u001B[38;5;167;01mImportError\u001B[39;00m(\n\u001B[0;32m    344\u001B[0m         \u001B[38;5;124m\"\u001B[39m\u001B[38;5;124mCould not import neo4j python package. \u001B[39m\u001B[38;5;124m\"\u001B[39m\n\u001B[0;32m    345\u001B[0m         \u001B[38;5;124m\"\u001B[39m\u001B[38;5;124mPlease install it with `pip install neo4j`.\u001B[39m\u001B[38;5;124m\"\u001B[39m\n\u001B[0;32m    346\u001B[0m     )\n\u001B[1;32m--> 348\u001B[0m url \u001B[38;5;241m=\u001B[39m \u001B[43mget_from_dict_or_env\u001B[49m\u001B[43m(\u001B[49m\u001B[43m{\u001B[49m\u001B[38;5;124;43m\"\u001B[39;49m\u001B[38;5;124;43murl\u001B[39;49m\u001B[38;5;124;43m\"\u001B[39;49m\u001B[43m:\u001B[49m\u001B[43m \u001B[49m\u001B[43murl\u001B[49m\u001B[43m}\u001B[49m\u001B[43m,\u001B[49m\u001B[43m \u001B[49m\u001B[38;5;124;43m\"\u001B[39;49m\u001B[38;5;124;43murl\u001B[39;49m\u001B[38;5;124;43m\"\u001B[39;49m\u001B[43m,\u001B[49m\u001B[43m \u001B[49m\u001B[38;5;124;43m\"\u001B[39;49m\u001B[38;5;124;43mNEO4J_URI\u001B[39;49m\u001B[38;5;124;43m\"\u001B[39;49m\u001B[43m)\u001B[49m\n\u001B[0;32m    349\u001B[0m \u001B[38;5;66;03m# if username and password are \"\", assume Neo4j auth is disabled\u001B[39;00m\n\u001B[0;32m    350\u001B[0m \u001B[38;5;28;01mif\u001B[39;00m username \u001B[38;5;241m==\u001B[39m \u001B[38;5;124m\"\u001B[39m\u001B[38;5;124m\"\u001B[39m \u001B[38;5;129;01mand\u001B[39;00m password \u001B[38;5;241m==\u001B[39m \u001B[38;5;124m\"\u001B[39m\u001B[38;5;124m\"\u001B[39m:\n",
      "File \u001B[1;32md:\\Anaconda\\envs\\DeepLearning\\Lib\\site-packages\\langchain_core\\utils\\env.py:51\u001B[0m, in \u001B[0;36mget_from_dict_or_env\u001B[1;34m(data, key, env_key, default)\u001B[0m\n\u001B[0;32m     47\u001B[0m     \u001B[38;5;28;01mreturn\u001B[39;00m data[key]\n\u001B[0;32m     49\u001B[0m key_for_err \u001B[38;5;241m=\u001B[39m key[\u001B[38;5;241m0\u001B[39m] \u001B[38;5;28;01mif\u001B[39;00m \u001B[38;5;28misinstance\u001B[39m(key, (\u001B[38;5;28mlist\u001B[39m, \u001B[38;5;28mtuple\u001B[39m)) \u001B[38;5;28;01melse\u001B[39;00m key\n\u001B[1;32m---> 51\u001B[0m \u001B[38;5;28;01mreturn\u001B[39;00m \u001B[43mget_from_env\u001B[49m\u001B[43m(\u001B[49m\u001B[43mkey_for_err\u001B[49m\u001B[43m,\u001B[49m\u001B[43m \u001B[49m\u001B[43menv_key\u001B[49m\u001B[43m,\u001B[49m\u001B[43m \u001B[49m\u001B[43mdefault\u001B[49m\u001B[38;5;241;43m=\u001B[39;49m\u001B[43mdefault\u001B[49m\u001B[43m)\u001B[49m\n",
      "File \u001B[1;32md:\\Anaconda\\envs\\DeepLearning\\Lib\\site-packages\\langchain_core\\utils\\env.py:81\u001B[0m, in \u001B[0;36mget_from_env\u001B[1;34m(key, env_key, default)\u001B[0m\n\u001B[0;32m     75\u001B[0m \u001B[38;5;28;01melse\u001B[39;00m:\n\u001B[0;32m     76\u001B[0m     msg \u001B[38;5;241m=\u001B[39m (\n\u001B[0;32m     77\u001B[0m         \u001B[38;5;124mf\u001B[39m\u001B[38;5;124m\"\u001B[39m\u001B[38;5;124mDid not find \u001B[39m\u001B[38;5;132;01m{\u001B[39;00mkey\u001B[38;5;132;01m}\u001B[39;00m\u001B[38;5;124m, please add an environment variable\u001B[39m\u001B[38;5;124m\"\u001B[39m\n\u001B[0;32m     78\u001B[0m         \u001B[38;5;124mf\u001B[39m\u001B[38;5;124m\"\u001B[39m\u001B[38;5;124m `\u001B[39m\u001B[38;5;132;01m{\u001B[39;00menv_key\u001B[38;5;132;01m}\u001B[39;00m\u001B[38;5;124m` which contains it, or pass\u001B[39m\u001B[38;5;124m\"\u001B[39m\n\u001B[0;32m     79\u001B[0m         \u001B[38;5;124mf\u001B[39m\u001B[38;5;124m\"\u001B[39m\u001B[38;5;124m `\u001B[39m\u001B[38;5;132;01m{\u001B[39;00mkey\u001B[38;5;132;01m}\u001B[39;00m\u001B[38;5;124m` as a named parameter.\u001B[39m\u001B[38;5;124m\"\u001B[39m\n\u001B[0;32m     80\u001B[0m     )\n\u001B[1;32m---> 81\u001B[0m     \u001B[38;5;28;01mraise\u001B[39;00m \u001B[38;5;167;01mValueError\u001B[39;00m(msg)\n",
      "\u001B[1;31mValueError\u001B[0m: Did not find url, please add an environment variable `NEO4J_URI` which contains it, or pass `url` as a named parameter."
     ]
    }
   ],
   "execution_count": 4
  },
  {
   "metadata": {},
   "cell_type": "code",
   "outputs": [],
   "execution_count": null,
   "source": [
    "loader = TextLoader(file_path=\"nbooks/test.txt\")\n",
    "docs = loader.load()\n",
    "\n",
    "text_splitter = RecursiveCharacterTextSplitter(chunk_size=250, chunk_overlap=24)\n",
    "documents = text_splitter.split_documents(documents=docs)"
   ],
   "id": "8aaf78ea57f94c46"
  },
  {
   "metadata": {},
   "cell_type": "code",
   "outputs": [],
   "execution_count": null,
   "source": [
    "\n",
    "llm = OllamaFunctions(model=\"llama3.1\", temperature=0, format=\"json\")\n",
    "\n",
    "llm_transformer = LLMGraphTransformer(llm=llm)\n",
    "\n",
    "graph_documents = llm_transformer.convert_to_graph_documents(documents)\n"
   ],
   "id": "8d152c18386b2885"
  },
  {
   "metadata": {},
   "cell_type": "code",
   "outputs": [],
   "execution_count": null,
   "source": [
    "graph_documents[0]"
   ],
   "id": "80015c0683b6b7fd"
  }
 ],
 "metadata": {
  "kernelspec": {
   "display_name": "Python 3",
   "language": "python",
   "name": "python3"
  },
  "language_info": {
   "codemirror_mode": {
    "name": "ipython",
    "version": 2
   },
   "file_extension": ".py",
   "mimetype": "text/x-python",
   "name": "python",
   "nbconvert_exporter": "python",
   "pygments_lexer": "ipython2",
   "version": "2.7.6"
  }
 },
 "nbformat": 4,
 "nbformat_minor": 5
}
